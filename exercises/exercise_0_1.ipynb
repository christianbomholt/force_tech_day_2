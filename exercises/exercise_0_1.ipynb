{
 "cells": [
  {
   "cell_type": "markdown",
   "metadata": {},
   "source": [
    "## Data cleaning at load\n",
    "\n",
    "One of the most common mistakes seen from proffesionals working with data is that they do not utilize the cleaning capabilities of their loading framework.\n",
    "\n",
    "###### Adding a few arguments to your load statement will save hours down the line\n",
    "\n",
    "###### It also has the added benefit of tidying your [ETL pipeline](https://en.wikipedia.org/wiki/Extract,_transform,_load) drastically.\n",
    "\n",
    "\n",
    "## Exercise 0.1\n",
    "\n",
    " - play around with the arguments for `pd.read_csv`\n",
    " - `pd.read_csv(path, argument1 = x, argument2 = y)`\n",
    " - look at the arguments `true_values,false_values=[\"FALSE\"], comment=\"#\", parse_dates=[0]` \n",
    "\n",
    "\n",
    "![](https://miro.medium.com/max/882/1*eVZyKIcUXOfzPrMTGx7yVw.png)\n"
   ]
  },
  {
   "cell_type": "code",
   "execution_count": 1,
   "metadata": {
    "scrolled": true
   },
   "outputs": [
    {
     "data": {
      "text/html": [
       "<div>\n",
       "<style scoped>\n",
       "    .dataframe tbody tr th:only-of-type {\n",
       "        vertical-align: middle;\n",
       "    }\n",
       "\n",
       "    .dataframe tbody tr th {\n",
       "        vertical-align: top;\n",
       "    }\n",
       "\n",
       "    .dataframe thead th {\n",
       "        text-align: right;\n",
       "    }\n",
       "</style>\n",
       "<table border=\"1\" class=\"dataframe\">\n",
       "  <thead>\n",
       "    <tr style=\"text-align: right;\">\n",
       "      <th></th>\n",
       "      <th>Date</th>\n",
       "      <th>Logical</th>\n",
       "      <th>Integer</th>\n",
       "      <th>Real</th>\n",
       "      <th>Factor</th>\n",
       "    </tr>\n",
       "  </thead>\n",
       "  <tbody>\n",
       "    <tr>\n",
       "      <th>0</th>\n",
       "      <td>#NNAA</td>\n",
       "      <td>#NNAA</td>\n",
       "      <td>#NNAA</td>\n",
       "      <td>#NNAA</td>\n",
       "      <td>#NNAA</td>\n",
       "    </tr>\n",
       "    <tr>\n",
       "      <th>1</th>\n",
       "      <td>#NNAA</td>\n",
       "      <td>#NNAA</td>\n",
       "      <td>#NNAA</td>\n",
       "      <td>#NNAA</td>\n",
       "      <td>#NNAA</td>\n",
       "    </tr>\n",
       "    <tr>\n",
       "      <th>2</th>\n",
       "      <td>01/01/2013</td>\n",
       "      <td>TRUE</td>\n",
       "      <td>74</td>\n",
       "      <td>67.64</td>\n",
       "      <td>Washington.DC</td>\n",
       "    </tr>\n",
       "    <tr>\n",
       "      <th>3</th>\n",
       "      <td>01/02/2013</td>\n",
       "      <td>FALSE</td>\n",
       "      <td>32</td>\n",
       "      <td>52.42</td>\n",
       "      <td>Denver</td>\n",
       "    </tr>\n",
       "    <tr>\n",
       "      <th>4</th>\n",
       "      <td>01/03/2013</td>\n",
       "      <td>TRUE</td>\n",
       "      <td>20</td>\n",
       "      <td>52.42</td>\n",
       "      <td>Atlanta</td>\n",
       "    </tr>\n",
       "  </tbody>\n",
       "</table>\n",
       "</div>"
      ],
      "text/plain": [
       "         Date Logical Integer   Real         Factor\n",
       "0       #NNAA   #NNAA   #NNAA  #NNAA          #NNAA\n",
       "1       #NNAA   #NNAA   #NNAA  #NNAA          #NNAA\n",
       "2  01/01/2013    TRUE      74  67.64  Washington.DC\n",
       "3  01/02/2013   FALSE      32  52.42         Denver\n",
       "4  01/03/2013    TRUE      20  52.42        Atlanta"
      ]
     },
     "execution_count": 1,
     "metadata": {},
     "output_type": "execute_result"
    }
   ],
   "source": [
    "import pandas as pd\n",
    "path = \"../data/exercise.csv\"\n",
    "df = pd.read_csv(path)\n",
    "df.head()"
   ]
  },
  {
   "cell_type": "code",
   "execution_count": 2,
   "metadata": {},
   "outputs": [
    {
     "data": {
      "text/plain": [
       "Date       object\n",
       "Logical    object\n",
       "Integer    object\n",
       "Real       object\n",
       "Factor     object\n",
       "dtype: object"
      ]
     },
     "execution_count": 2,
     "metadata": {},
     "output_type": "execute_result"
    }
   ],
   "source": [
    "df.dtypes"
   ]
  },
  {
   "cell_type": "code",
   "execution_count": null,
   "metadata": {},
   "outputs": [],
   "source": []
  },
  {
   "cell_type": "code",
   "execution_count": null,
   "metadata": {},
   "outputs": [],
   "source": [
    "## Your code"
   ]
  },
  {
   "cell_type": "markdown",
   "metadata": {},
   "source": [
    "#### Try to end up with only 2 columns of type `object`\n",
    "\n",
    "Why is the column `Logical` of type object?"
   ]
  },
  {
   "cell_type": "code",
   "execution_count": null,
   "metadata": {},
   "outputs": [],
   "source": []
  }
 ],
 "metadata": {
  "kernelspec": {
   "display_name": "Python 3",
   "language": "python",
   "name": "python3"
  },
  "language_info": {
   "codemirror_mode": {
    "name": "ipython",
    "version": 3
   },
   "file_extension": ".py",
   "mimetype": "text/x-python",
   "name": "python",
   "nbconvert_exporter": "python",
   "pygments_lexer": "ipython3",
   "version": "3.6.2"
  }
 },
 "nbformat": 4,
 "nbformat_minor": 2
}
