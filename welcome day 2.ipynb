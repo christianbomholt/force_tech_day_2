{
 "cells": [
  {
   "cell_type": "markdown",
   "metadata": {
    "slideshow": {
     "slide_type": "slide"
    }
   },
   "source": [
    "\n",
    "    \n",
    "# Introduction\n",
    "\n",
    "\n",
    "## Christian Bomholt\n",
    "\n",
    " \n",
    "\n"
   ]
  },
  {
   "cell_type": "markdown",
   "metadata": {
    "slideshow": {
     "slide_type": "subslide"
    }
   },
   "source": [
    "<img src=\"https://s3-ap-south-1.amazonaws.com/av-blog-media/wp-content/uploads/2018/03/pandas.jpg\">\n"
   ]
  },
  {
   "cell_type": "markdown",
   "metadata": {
    "slideshow": {
     "slide_type": "subslide"
    }
   },
   "source": [
    "<img src=\"https://upload.wikimedia.org/wikipedia/commons/thumb/0/05/Scikit_learn_logo_small.svg/1024px-Scikit_learn_logo_small.svg.png\">"
   ]
  },
  {
   "cell_type": "markdown",
   "metadata": {
    "slideshow": {
     "slide_type": "subslide"
    }
   },
   "source": [
    "<img src=\"https://miro.medium.com/max/1162/1*eetbU0xKDEz9lsBYariJRA.jpeg\">"
   ]
  },
  {
   "cell_type": "markdown",
   "metadata": {
    "slideshow": {
     "slide_type": "slide"
    }
   },
   "source": [
    "### Agenda:\n",
    "\n",
    "- Handling data using pandas\n",
    "    - Data import\n",
    "    - Transformation\n",
    "        - Groupby\n",
    "            -Opgave vin\n",
    "        - Indexing\n",
    "        - Assignment\n",
    "    - Feature generation / Feature engineering\n",
    "    - Special cases\n",
    "        - .loc\n",
    "        - NA values in pandas\n",
    "    - Time-series data\n",
    "        - Window functions \n",
    "- Unsupervised learning\n",
    "    - Clustering\n",
    "        - General\n",
    "        - Kmeans\n",
    "        - DBSCAN\n",
    "- Supervised learning\n",
    "    - Linear models\n",
    "    - Classification\n",
    "        - xgboost"
   ]
  }
 ],
 "metadata": {
  "celltoolbar": "Slideshow",
  "kernelspec": {
   "display_name": "Python 3",
   "language": "python",
   "name": "python3"
  },
  "language_info": {
   "codemirror_mode": {
    "name": "ipython",
    "version": 3
   },
   "file_extension": ".py",
   "mimetype": "text/x-python",
   "name": "python",
   "nbconvert_exporter": "python",
   "pygments_lexer": "ipython3",
   "version": "3.6.2"
  }
 },
 "nbformat": 4,
 "nbformat_minor": 2
}
